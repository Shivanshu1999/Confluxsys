{
 "cells": [
  {
   "cell_type": "markdown",
   "metadata": {},
   "source": [
    "### Importing libraries"
   ]
  },
  {
   "cell_type": "code",
   "execution_count": 56,
   "metadata": {},
   "outputs": [],
   "source": [
    "import findspark\n",
    "findspark.init()"
   ]
  },
  {
   "cell_type": "code",
   "execution_count": 57,
   "metadata": {},
   "outputs": [],
   "source": [
    "import pyspark\n",
    "from pyspark.sql import SparkSession"
   ]
  },
  {
   "cell_type": "code",
   "execution_count": 58,
   "metadata": {},
   "outputs": [],
   "source": [
    "from pyspark.ml.evaluation import RegressionEvaluator\n",
    "from pyspark.ml.recommendation import ALS\n",
    "from pyspark.sql import Row\n"
   ]
  },
  {
   "cell_type": "markdown",
   "metadata": {},
   "source": [
    "### reading data"
   ]
  },
  {
   "cell_type": "code",
   "execution_count": 59,
   "metadata": {},
   "outputs": [],
   "source": [
    "lines = spark.read.text(\"C:/Users/shiva/Desktop/ALS Training/SampleALS.txt\").rdd\n",
    "parts = lines.map(lambda row: row.value.split(\"::\"))\n",
    "ratingsRDD = parts.map(lambda p: Row(userId=int(p[0]), movieId=int(p[1]),\n",
    "                                     rating=float(p[2])))\n"
   ]
  },
  {
   "cell_type": "markdown",
   "metadata": {},
   "source": [
    "### creating dataframe"
   ]
  },
  {
   "cell_type": "code",
   "execution_count": 60,
   "metadata": {},
   "outputs": [],
   "source": [
    "ratings = spark.createDataFrame(ratingsRDD)\n"
   ]
  },
  {
   "cell_type": "code",
   "execution_count": 61,
   "metadata": {},
   "outputs": [
    {
     "name": "stdout",
     "output_type": "stream",
     "text": [
      "+------+-------+------+\n",
      "|userId|movieId|rating|\n",
      "+------+-------+------+\n",
      "|     0|      2|   3.0|\n",
      "|     0|      3|   1.0|\n",
      "|     0|      5|   2.0|\n",
      "|     0|      9|   4.0|\n",
      "|     0|     11|   1.0|\n",
      "|     0|     12|   2.0|\n",
      "|     0|     15|   1.0|\n",
      "|     0|     17|   1.0|\n",
      "|     0|     19|   1.0|\n",
      "|     0|     21|   1.0|\n",
      "|     0|     23|   1.0|\n",
      "|     0|     26|   3.0|\n",
      "|     0|     27|   1.0|\n",
      "|     0|     28|   1.0|\n",
      "|     0|     29|   1.0|\n",
      "|     0|     30|   1.0|\n",
      "|     0|     31|   1.0|\n",
      "|     0|     34|   1.0|\n",
      "|     0|     37|   1.0|\n",
      "|     0|     41|   2.0|\n",
      "+------+-------+------+\n",
      "only showing top 20 rows\n",
      "\n"
     ]
    }
   ],
   "source": [
    "ratings.show()"
   ]
  },
  {
   "cell_type": "code",
   "execution_count": 82,
   "metadata": {},
   "outputs": [
    {
     "data": {
      "text/plain": [
       "1501"
      ]
     },
     "execution_count": 82,
     "metadata": {},
     "output_type": "execute_result"
    }
   ],
   "source": [
    "ratings.count()"
   ]
  },
  {
   "cell_type": "code",
   "execution_count": 88,
   "metadata": {},
   "outputs": [
    {
     "data": {
      "text/plain": [
       "[('userId', 'bigint'), ('movieId', 'bigint'), ('rating', 'double')]"
      ]
     },
     "execution_count": 88,
     "metadata": {},
     "output_type": "execute_result"
    }
   ],
   "source": [
    "ratings.dtypes"
   ]
  },
  {
   "cell_type": "markdown",
   "metadata": {},
   "source": [
    "### spliting the dataset "
   ]
  },
  {
   "cell_type": "code",
   "execution_count": 62,
   "metadata": {},
   "outputs": [],
   "source": [
    "(training, test) = ratings.randomSplit([0.8, 0.2])\n"
   ]
  },
  {
   "cell_type": "markdown",
   "metadata": {},
   "source": [
    "### training the dataset & tuning parameters"
   ]
  },
  {
   "cell_type": "code",
   "execution_count": 65,
   "metadata": {},
   "outputs": [
    {
     "name": "stdout",
     "output_type": "stream",
     "text": [
      "rank: 5, regParam: 0.001, alpha: 10, RMSE: 1.6750438968203014\n",
      "rank: 5, regParam: 0.001, alpha: 20, RMSE: 1.6750438968203014\n",
      "rank: 5, regParam: 0.001, alpha: 40, RMSE: 1.6750438968203014\n",
      "rank: 5, regParam: 0.01, alpha: 10, RMSE: 1.4766701312695494\n",
      "rank: 5, regParam: 0.01, alpha: 20, RMSE: 1.4766701312695494\n",
      "rank: 5, regParam: 0.01, alpha: 40, RMSE: 1.4766701312695494\n",
      "rank: 5, regParam: 0.1, alpha: 10, RMSE: 1.1692416503785417\n",
      "rank: 5, regParam: 0.1, alpha: 20, RMSE: 1.1692416503785417\n",
      "rank: 5, regParam: 0.1, alpha: 40, RMSE: 1.1692416503785417\n",
      "rank: 10, regParam: 0.001, alpha: 10, RMSE: 2.9584184742057063\n",
      "rank: 10, regParam: 0.001, alpha: 20, RMSE: 2.9584184742057063\n",
      "rank: 10, regParam: 0.001, alpha: 40, RMSE: 2.9584184742057063\n",
      "rank: 10, regParam: 0.01, alpha: 10, RMSE: 1.7276876965351917\n",
      "rank: 10, regParam: 0.01, alpha: 20, RMSE: 1.7276876965351917\n",
      "rank: 10, regParam: 0.01, alpha: 40, RMSE: 1.7276876965351917\n",
      "rank: 10, regParam: 0.1, alpha: 10, RMSE: 1.1258976834667058\n",
      "rank: 10, regParam: 0.1, alpha: 20, RMSE: 1.1258976834667058\n",
      "rank: 10, regParam: 0.1, alpha: 40, RMSE: 1.1258976834667058\n",
      "rank: 15, regParam: 0.001, alpha: 10, RMSE: 3.345471188301395\n",
      "rank: 15, regParam: 0.001, alpha: 20, RMSE: 3.345471188301395\n",
      "rank: 15, regParam: 0.001, alpha: 40, RMSE: 3.345471188301395\n",
      "rank: 15, regParam: 0.01, alpha: 10, RMSE: 2.0112526891090927\n",
      "rank: 15, regParam: 0.01, alpha: 20, RMSE: 2.0112526891090927\n",
      "rank: 15, regParam: 0.01, alpha: 40, RMSE: 2.0112526891090927\n",
      "rank: 15, regParam: 0.1, alpha: 10, RMSE: 1.141009684223231\n",
      "rank: 15, regParam: 0.1, alpha: 20, RMSE: 1.141009684223231\n",
      "rank: 15, regParam: 0.1, alpha: 40, RMSE: 1.141009684223231\n"
     ]
    }
   ],
   "source": [
    "ranks = [5,10,15]\n",
    "regParams = [0.001, 0.01, 0.1]\n",
    "alphas = [10, 20, 40]\n",
    "\n",
    "for rank in ranks:\n",
    "    for regParam in regParams:\n",
    "            for alpha in alphas:\n",
    "                als = ALS(maxIter=5,\n",
    "                          rank = rank,\n",
    "                          regParam=regParam,\n",
    "                          alpha = alpha,\n",
    "                          userCol=\"userId\", \n",
    "                          itemCol=\"movieId\", \n",
    "                          ratingCol=\"rating\",\n",
    "                          coldStartStrategy=\"drop\")\n",
    "                model = als.fit(training)\n",
    "                predictions = model.transform(test)\n",
    "                evaluator = RegressionEvaluator(metricName=\"rmse\",\n",
    "                                                labelCol=\"rating\",\n",
    "                                                predictionCol=\"prediction\")\n",
    "                rmse = evaluator.evaluate(predictions)\n",
    "                print(\"rank: \"+str(rank)+\n",
    "                      \", regParam: \"+str(regParam)+\n",
    "                      \", alpha: \"+str(alpha)+\n",
    "                      \", RMSE: \"+str(rmse))\n",
    "\n",
    "# Evaluate the model by computing the RMSE on the test data\n"
   ]
  },
  {
   "cell_type": "markdown",
   "metadata": {},
   "source": [
    "####### from the rmse values we can see\n",
    "\n",
    "- change in alpha does not affect the error   /// remove alpha \n",
    "- increase in regParam decrease the error\n",
    "- larger rank with larger regparam decrease the error\n"
   ]
  },
  {
   "cell_type": "code",
   "execution_count": 81,
   "metadata": {},
   "outputs": [
    {
     "name": "stdout",
     "output_type": "stream",
     "text": [
      "Best RMSE: 1.127190625157611\n"
     ]
    }
   ],
   "source": [
    "als = ALS(maxIter=5,rank = 15,\n",
    "          regParam=0.2,userCol=\"userId\", \n",
    "          itemCol=\"movieId\", \n",
    "          ratingCol=\"rating\",\n",
    "          coldStartStrategy=\"drop\")\n",
    "\n",
    "model = als.fit(training)\n",
    "predictions = model.transform(test)\n",
    "evaluator = RegressionEvaluator(metricName=\"rmse\",\n",
    "                                labelCol=\"rating\",\n",
    "                                predictionCol=\"prediction\")\n",
    "rmse = evaluator.evaluate(predictions)\n",
    "print(\"Best RMSE: \"+str(rmse))"
   ]
  },
  {
   "cell_type": "markdown",
   "metadata": {},
   "source": [
    "### recomending"
   ]
  },
  {
   "cell_type": "code",
   "execution_count": 84,
   "metadata": {},
   "outputs": [
    {
     "name": "stdout",
     "output_type": "stream",
     "text": [
      "+------+--------------------+\n",
      "|userId|     recommendations|\n",
      "+------+--------------------+\n",
      "|    28|[{49, 3.0045063},...|\n",
      "|    26|[{22, 4.1243496},...|\n",
      "|    27|[{23, 2.5396621},...|\n",
      "|    12|[{46, 3.941747}, ...|\n",
      "|    22|[{75, 3.9501064},...|\n",
      "|     1|[{22, 2.7746298},...|\n",
      "|    13|[{52, 2.3649578},...|\n",
      "|     6|[{25, 2.8013906},...|\n",
      "|    16|[{90, 3.699558}, ...|\n",
      "|     3|[{30, 3.3703048},...|\n",
      "|    20|[{22, 3.3006942},...|\n",
      "|     5|[{46, 3.5123692},...|\n",
      "|    19|[{90, 2.8197718},...|\n",
      "|    15|[{46, 3.336104}, ...|\n",
      "|    17|[{46, 4.1951275},...|\n",
      "|     9|[{49, 3.232447}, ...|\n",
      "|     4|[{52, 3.0084107},...|\n",
      "|     8|[{52, 4.0076814},...|\n",
      "|    23|[{46, 4.254199}, ...|\n",
      "|     7|[{52, 2.823106}, ...|\n",
      "+------+--------------------+\n",
      "only showing top 20 rows\n",
      "\n"
     ]
    }
   ],
   "source": [
    "userRecs = model.recommendForAllUsers(3)  #### recomending 3 movies to users\n",
    "userRecs.show()\n"
   ]
  },
  {
   "cell_type": "code",
   "execution_count": 100,
   "metadata": {},
   "outputs": [],
   "source": [
    "#Results = spark.createDataFrame(userRecs)\n",
    "#userRecs.write.csv(\"ALS Sample results\")\n",
    "userRecs.toPandas().to_excel('mycsv.csv')"
   ]
  },
  {
   "cell_type": "code",
   "execution_count": null,
   "metadata": {},
   "outputs": [],
   "source": []
  }
 ],
 "metadata": {
  "kernelspec": {
   "display_name": "Python 3",
   "language": "python",
   "name": "python3"
  },
  "language_info": {
   "codemirror_mode": {
    "name": "ipython",
    "version": 3
   },
   "file_extension": ".py",
   "mimetype": "text/x-python",
   "name": "python",
   "nbconvert_exporter": "python",
   "pygments_lexer": "ipython3",
   "version": "3.8.5"
  }
 },
 "nbformat": 4,
 "nbformat_minor": 4
}
